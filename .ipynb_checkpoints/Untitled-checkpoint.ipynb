{
 "cells": [
  {
   "cell_type": "code",
   "execution_count": null,
   "id": "1e8675a6",
   "metadata": {},
   "outputs": [],
   "source": [
    "project_description = input(\"Digite a descrição do projeto: \");\n",
    "estimated_hours = input(\"Digite a estimativa de horas para conclusão: \");\n",
    "hour_price = input(\"Digite o valor da hora trabalhada: \");\n",
    "estimated_time = input(\"Digite o prazo estimado: \");"
   ]
  },
  {
   "cell_type": "code",
   "execution_count": null,
   "id": "8e8ed7c9",
   "metadata": {},
   "outputs": [],
   "source": [
    "estimated_value_total = int(estimated_hours) * int(hour_price);\n",
    "print(estimated_value_total);"
   ]
  },
  {
   "cell_type": "code",
   "execution_count": null,
   "id": "27a4159e",
   "metadata": {},
   "outputs": [],
   "source": [
    "from fpdf import FPDF;"
   ]
  }
 ],
 "metadata": {
  "kernelspec": {
   "display_name": "Python 3 (ipykernel)",
   "language": "python",
   "name": "python3"
  },
  "language_info": {
   "codemirror_mode": {
    "name": "ipython",
    "version": 3
   },
   "file_extension": ".py",
   "mimetype": "text/x-python",
   "name": "python",
   "nbconvert_exporter": "python",
   "pygments_lexer": "ipython3",
   "version": "3.11.5"
  }
 },
 "nbformat": 4,
 "nbformat_minor": 5
}
