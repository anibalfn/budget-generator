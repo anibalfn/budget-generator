{
 "cells": [
  {
   "cell_type": "code",
   "execution_count": null,
   "id": "e1ba3652",
   "metadata": {},
   "outputs": [],
   "source": [
    "project_description = input(\"Digite a descrição do projeto: \");\n",
    "estimated_hours = input(\"Digite a estimativa de horas para conclusão: \");\n",
    "hour_price = input(\"Digite o valor da hora trabalhada: \");\n",
    "estimated_time = input(\"Digite o prazo estimado: \");"
   ]
  },
  {
   "cell_type": "code",
   "execution_count": null,
   "id": "ccc54196",
   "metadata": {},
   "outputs": [],
   "source": [
    "estimated_value_total = int(estimated_hours) * int(hour_price);\n",
    "print(estimated_value_total);"
   ]
  },
  {
   "cell_type": "code",
   "execution_count": null,
   "id": "9774c574",
   "metadata": {},
   "outputs": [],
   "source": [
    "from fpdf import FPDF;\n",
    "\n",
    "pdf.image(\"template.png\", x=0, y=0 )\n",
    "\n",
    "pdf.text(115, 145, project_description);\n",
    "pdf.text(115, 160, estimated_hours)\n",
    "pdf.text(115, 175, hour_price)\n",
    "pdf.text(115, 190, estimated_time)\n",
    "pdf.text(115, 205, str(estimated_value_total))"
   ]
  },
  {
   "cell_type": "code",
   "execution_count": null,
   "id": "f50151b5",
   "metadata": {},
   "outputs": [],
   "source": []
  },
  {
   "cell_type": "code",
   "execution_count": null,
   "id": "cac3194e",
   "metadata": {},
   "outputs": [],
   "source": []
  }
 ],
 "metadata": {
  "kernelspec": {
   "display_name": "Python 3 (ipykernel)",
   "language": "python",
   "name": "python3"
  },
  "language_info": {
   "codemirror_mode": {
    "name": "ipython",
    "version": 3
   },
   "file_extension": ".py",
   "mimetype": "text/x-python",
   "name": "python",
   "nbconvert_exporter": "python",
   "pygments_lexer": "ipython3",
   "version": "3.11.5"
  }
 },
 "nbformat": 4,
 "nbformat_minor": 5
}
