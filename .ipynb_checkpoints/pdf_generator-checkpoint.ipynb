{
 "cells": [
  {
   "cell_type": "code",
   "execution_count": null,
   "id": "790de824",
   "metadata": {},
   "outputs": [],
   "source": [
    "project_description = input(\"Digite a descrição do projeto: \");\n",
    "estimated_hours = input(\"Digite a estimativa de horas para conclusão: \");\n",
    "hour_price = input(\"Digite o valor da hora trabalhada: \");\n",
    "estimated_time = input(\"Digite o prazo estimado: \");"
   ]
  },
  {
   "cell_type": "code",
   "execution_count": null,
   "id": "38c4e4f3",
   "metadata": {},
   "outputs": [],
   "source": [
    "estimated_value_total = int(estimated_hours) * int(hour_price);\n",
    "print(estimated_value_total);"
   ]
  },
  {
   "cell_type": "code",
   "execution_count": null,
   "id": "d1561295",
   "metadata": {},
   "outputs": [],
   "source": [
    "from fpdf import FPDF;\n",
    "\n",
    "pdf = FPDF()\n",
    "pdf.add_page()\n",
    "pdf.set_font(\"Arial\")\n",
    "pdf.image(\"template.png\", x=0, y=0);\n",
    "\n",
    "pdf.text(115, 145, project_description);\n",
    "pdf.text(115, 160, estimated_hours);\n",
    "pdf.text(115, 175, hour_price);\n",
    "pdf.text(115, 190, estimated_time);\n",
    "pdf.text(115, 205, str(estimated_value_total));"
   ]
  },
  {
   "cell_type": "code",
   "execution_count": null,
   "id": "83c10c58",
   "metadata": {},
   "outputs": [],
   "source": [
    "pdf.output(\"orçamento.pdf\");\n",
    "print(\"Orçamento gerado com sucesso.\");"
   ]
  }
 ],
 "metadata": {
  "kernelspec": {
   "display_name": "Python 3 (ipykernel)",
   "language": "python",
   "name": "python3"
  },
  "language_info": {
   "codemirror_mode": {
    "name": "ipython",
    "version": 3
   },
   "file_extension": ".py",
   "mimetype": "text/x-python",
   "name": "python",
   "nbconvert_exporter": "python",
   "pygments_lexer": "ipython3",
   "version": "3.11.5"
  }
 },
 "nbformat": 4,
 "nbformat_minor": 5
}
