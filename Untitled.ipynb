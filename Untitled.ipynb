{
 "cells": [
  {
   "cell_type": "code",
   "execution_count": null,
   "id": "13094046",
   "metadata": {},
   "outputs": [],
   "source": [
    "project_description = input(\"Digite a descrição do projeto: \");\n",
    "estimated_hours = input(\"Digite a estimativa de horas para conclusão: \");\n",
    "hour_price = input(\"Digite o valor da hora trabalhada: \");\n",
    "estimated_time = input(\"Digite o prazo estimado: \")"
   ]
  }
 ],
 "metadata": {
  "kernelspec": {
   "display_name": "Python 3 (ipykernel)",
   "language": "python",
   "name": "python3"
  },
  "language_info": {
   "codemirror_mode": {
    "name": "ipython",
    "version": 3
   },
   "file_extension": ".py",
   "mimetype": "text/x-python",
   "name": "python",
   "nbconvert_exporter": "python",
   "pygments_lexer": "ipython3",
   "version": "3.11.5"
  }
 },
 "nbformat": 4,
 "nbformat_minor": 5
}
