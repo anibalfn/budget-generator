{
 "cells": [
  {
   "cell_type": "code",
   "execution_count": 1,
   "id": "acca76f3",
   "metadata": {},
   "outputs": [
    {
     "name": "stdout",
     "output_type": "stream",
     "text": [
      "Type the project description: Project Name\n",
      "Type estimated hours to finish the project: 12\n",
      "Type the value per worked hour: 25\n",
      "Type the estimated deadline: 1 month\n"
     ]
    }
   ],
   "source": [
    "project_description = input(\"Type the project description: \");\n",
    "estimated_hours = input(\"Type estimated hours to finish the project: \");\n",
    "hour_price = input(\"Type the value per worked hour: \");\n",
    "estimated_time = input(\"Type the estimated deadline: \");"
   ]
  },
  {
   "cell_type": "code",
   "execution_count": 2,
   "id": "9020df2a",
   "metadata": {},
   "outputs": [
    {
     "name": "stdout",
     "output_type": "stream",
     "text": [
      "300\n"
     ]
    }
   ],
   "source": [
    "estimated_value_total = int(estimated_hours) * int(hour_price);\n",
    "print(estimated_value_total);"
   ]
  },
  {
   "cell_type": "code",
   "execution_count": 3,
   "id": "c94679e5",
   "metadata": {},
   "outputs": [],
   "source": [
    "from fpdf import FPDF;\n",
    "\n",
    "pdf = FPDF()\n",
    "pdf.add_page()\n",
    "pdf.set_font(\"Arial\")\n",
    "pdf.image(\"template.png\", x=0, y=0);\n",
    "\n",
    "pdf.text(115, 145, project_description);\n",
    "pdf.text(115, 160, estimated_hours);\n",
    "pdf.text(115, 175, hour_price);\n",
    "pdf.text(115, 190, estimated_time);\n",
    "pdf.text(115, 205, str(estimated_value_total));"
   ]
  },
  {
   "cell_type": "code",
   "execution_count": 4,
   "id": "7fb49ced",
   "metadata": {},
   "outputs": [
    {
     "name": "stdout",
     "output_type": "stream",
     "text": [
      "Budget generated with success.\n"
     ]
    }
   ],
   "source": [
    "pdf.output(\"budget.pdf\");\n",
    "print(\"Budget generated with success.\");"
   ]
  }
 ],
 "metadata": {
  "kernelspec": {
   "display_name": "Python 3 (ipykernel)",
   "language": "python",
   "name": "python3"
  },
  "language_info": {
   "codemirror_mode": {
    "name": "ipython",
    "version": 3
   },
   "file_extension": ".py",
   "mimetype": "text/x-python",
   "name": "python",
   "nbconvert_exporter": "python",
   "pygments_lexer": "ipython3",
   "version": "3.11.5"
  }
 },
 "nbformat": 4,
 "nbformat_minor": 5
}
